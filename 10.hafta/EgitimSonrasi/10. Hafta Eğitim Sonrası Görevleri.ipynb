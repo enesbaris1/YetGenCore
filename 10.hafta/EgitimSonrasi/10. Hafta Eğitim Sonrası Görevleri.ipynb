{
 "cells": [
  {
   "attachments": {},
   "cell_type": "markdown",
   "metadata": {},
   "source": [
    "# Problem 1 "
   ]
  },
  {
   "cell_type": "code",
   "execution_count": 1,
   "metadata": {},
   "outputs": [
    {
     "name": "stdout",
     "output_type": "stream",
     "text": [
      "[   1    2   37  738 1000]\n"
     ]
    }
   ],
   "source": [
    "import numpy as np\n",
    "\n",
    "arr=np.array([1,738,37,1000,2])\n",
    "\n",
    "print(np.sort(arr))\n"
   ]
  },
  {
   "attachments": {},
   "cell_type": "markdown",
   "metadata": {},
   "source": [
    "# Problem 2"
   ]
  },
  {
   "cell_type": "code",
   "execution_count": 45,
   "metadata": {},
   "outputs": [
    {
     "name": "stdout",
     "output_type": "stream",
     "text": [
      "[ 5  6  7  8  9 10 11 12 13 14]\n",
      "[50 55 60 65 70 75 80 85 90 95]\n",
      "[0. 0. 0. 0. 0. 0. 0. 0. 0. 0.]\n",
      "[1. 1. 1. 1. 1. 1. 1. 1. 1. 1.]\n",
      "[  0.  25.  50.  75. 100.]\n",
      "[19 15 22 21 26]\n",
      "[-0.56198293 -0.42254083 -0.38876287  0.42109534  0.97014917  0.72191744\n",
      "  0.15451781  0.02735737 -0.49117963 -0.38243536]\n",
      "[[27 44 30 38 36]\n",
      " [30 25 19 29 11]\n",
      " [39 27 48 31 40]]\n",
      "8\n",
      "[175 114 185]\n",
      "[96 96 97 98 87]\n",
      "11 48 31.6\n",
      "(2, 2)\n",
      "[10 11 12]\n",
      "[20 19 18 17 16 15 14 13 12 11 10]\n",
      "[[27 44 30 38 36]]\n",
      "19\n",
      "[[19]]\n",
      "[[27]\n",
      " [30]\n",
      " [39]]\n",
      "[[ 729 1936  900 1444 1296]\n",
      " [ 900  625  361  841  121]\n",
      " [1521  729 2304  961 1600]]\n",
      "[ 0  1  2  3  4  5  6  7  8  9 10 11 12 13 14 15 16 17 18 19 20 21 22 23\n",
      " 24 25 26 27 28 29 30 31 32 33 34 35 36 37 38 39 40 41 42 43 44 45 46 47\n",
      " 48 49]\n"
     ]
    }
   ],
   "source": [
    "arr2 = np.array([10,15,30,45,60])\n",
    "\n",
    "\n",
    "arr3=np.arange(5,15)\n",
    "print(arr3) \n",
    "arr4=np.arange(50,100,5)\n",
    "print(arr4)\n",
    "\n",
    "arr5=np.zeros(10)\n",
    "print(arr5)\n",
    "\n",
    "arr6=np.ones(10)\n",
    "print(arr6)\n",
    "\n",
    "arr7=np.linspace(0,100,5)\n",
    "print(arr7)\n",
    "\n",
    "arr8=np.random.randint(10,30,5)\n",
    "print(arr8)\n",
    "\n",
    "arr9=np.random.uniform(-1,1,size=10)\n",
    "print(arr9)\n",
    "\n",
    "\n",
    "arr10=np.random.randint(10,50,size=(3,5))\n",
    "print(arr10)\n",
    "\n",
    "\n",
    "satirS,sutunS=arr10.shape\n",
    "satirT=np.sum(arr10,axis=1)\n",
    "sutunT=np.sum(arr10,axis=0)\n",
    "toplam=satirS+sutunS\n",
    "print(toplam)\n",
    "print(satirT)\n",
    "print(sutunT)\n",
    "\n",
    "\n",
    "max1=np.max(arr10)\n",
    "min1=np.min(arr10)\n",
    "orrt=np.mean(arr10)\n",
    "print(min1,max1,orrt)\n",
    "enbuyukindex=np.unravel_index(np.argmax(arr10), arr10.shape)\n",
    "print(enbuyukindex )\n",
    "\n",
    "\n",
    "dizi=np.arange(10,21)\n",
    "print(dizi[0:3])\n",
    "\n",
    "print(dizi[::-1])\n",
    "\n",
    "\n",
    "print(arr10[0:1])\n",
    "\n",
    "\n",
    "print(arr10[1][2])\n",
    "print(arr10[1:2,2:3])\n",
    "\n",
    "\n",
    "print(arr10[0:3,0:1])\n",
    "\n",
    "print(np.power(arr10,2))\n",
    "\n",
    "\n",
    "arr12=np.arange(-50,50)\n",
    "print(arr12[arr12>=0])\n"
   ]
  }
 ],
 "metadata": {
  "kernelspec": {
   "display_name": "Python 3",
   "language": "python",
   "name": "python3"
  },
  "language_info": {
   "codemirror_mode": {
    "name": "ipython",
    "version": 3
   },
   "file_extension": ".py",
   "mimetype": "text/x-python",
   "name": "python",
   "nbconvert_exporter": "python",
   "pygments_lexer": "ipython3",
   "version": "3.11.1"
  },
  "orig_nbformat": 4,
  "vscode": {
   "interpreter": {
    "hash": "5026d2d6e7aaaaba093def813beadff083d8733e4a511af01735cbabd156995d"
   }
  }
 },
 "nbformat": 4,
 "nbformat_minor": 2
}
