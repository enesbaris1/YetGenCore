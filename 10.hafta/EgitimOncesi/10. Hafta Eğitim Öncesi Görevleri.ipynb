{
 "cells": [
  {
   "attachments": {},
   "cell_type": "markdown",
   "metadata": {},
   "source": [
    "# Problem 1"
   ]
  },
  {
   "cell_type": "code",
   "execution_count": 12,
   "metadata": {},
   "outputs": [
    {
     "name": "stdout",
     "output_type": "stream",
     "text": [
      "[7 7 5 9 0 1]\n",
      "(6,)\n",
      "[[7 7 5]\n",
      " [9 0 1]]\n",
      "2\n"
     ]
    }
   ],
   "source": [
    "import numpy as np\n",
    "import random\n",
    "arr = np.random.randint(0,10,6)# 2 - 0 ile 10 arasında 5 sayıdan oluşan matris üretin\n",
    "print(arr)\n",
    "boyut = arr.shape\n",
    "print(boyut)\n",
    "\n",
    "arr2=arr.reshape(2,3)\n",
    "\n",
    "print(arr2)\n",
    "\n",
    "print(arr2.ndim)\n"
   ]
  },
  {
   "attachments": {},
   "cell_type": "markdown",
   "metadata": {},
   "source": [
    "# Problem 2"
   ]
  },
  {
   "cell_type": "code",
   "execution_count": 19,
   "metadata": {},
   "outputs": [
    {
     "name": "stdout",
     "output_type": "stream",
     "text": [
      "[1 3 5 7 9]\n",
      "[1 3]\n",
      "[5 7]\n",
      "[9]\n",
      "[1 3 5 7 9]\n"
     ]
    }
   ],
   "source": [
    "arr3= np.arange(1,10,2)\n",
    "print(arr3)\n",
    "\n",
    "a,b,c= np.split(arr3,[2,4])\n",
    "print(a)\n",
    "print(b)\n",
    "print(c)\n",
    "\n",
    "re = np.concatenate([a,b,c])\n",
    "print(re)\n"
   ]
  },
  {
   "attachments": {},
   "cell_type": "markdown",
   "metadata": {},
   "source": [
    "# Problem 3"
   ]
  },
  {
   "cell_type": "code",
   "execution_count": 30,
   "metadata": {},
   "outputs": [
    {
     "name": "stdout",
     "output_type": "stream",
     "text": [
      "[99 79 97 91 61 13 59 75 83 67]\n",
      "1\n",
      "(10,)\n",
      "10\n",
      "int32\n"
     ]
    }
   ],
   "source": [
    "dizi = np.arange(5,101,2)\n",
    "dizi2 = np.random.choice(dizi,10,replace=False)\n",
    "print(dizi2)\n",
    "print(dizi2.ndim)\n",
    "print(dizi2.shape)\n",
    "print(dizi2.size)\n",
    "print(dizi2.dtype)\n"
   ]
  }
 ],
 "metadata": {
  "kernelspec": {
   "display_name": "Python 3",
   "language": "python",
   "name": "python3"
  },
  "language_info": {
   "codemirror_mode": {
    "name": "ipython",
    "version": 3
   },
   "file_extension": ".py",
   "mimetype": "text/x-python",
   "name": "python",
   "nbconvert_exporter": "python",
   "pygments_lexer": "ipython3",
   "version": "3.11.1"
  },
  "orig_nbformat": 4,
  "vscode": {
   "interpreter": {
    "hash": "5026d2d6e7aaaaba093def813beadff083d8733e4a511af01735cbabd156995d"
   }
  }
 },
 "nbformat": 4,
 "nbformat_minor": 2
}
