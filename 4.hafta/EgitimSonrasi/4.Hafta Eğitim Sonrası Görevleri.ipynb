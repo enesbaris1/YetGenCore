{
 "cells": [
  {
   "cell_type": "markdown",
   "metadata": {},
   "source": [
    "# Problem 1\n",
    "`ogrenciler` adında bir sözlük oluşturunuz. Kullanıcıdan döngü yardımıyla 3 öğrenci için veri girmesini isteyerek öğrencilerin sırasıyla okul numarası, isim, soy isim, telefon numarası ve doğum tarihi bilgilerini alınız. Aldığınız öğrenci bilgilerini yine aynı döngü yardımıyla `ogrenciler` adındaki sözlükte saklayınız. Daha sonra öğrenci bilgilerinin bulunduğu sözlük yapısını ekrana bastırınız.\n",
    "\n"
   ]
  },
  {
   "cell_type": "code",
   "execution_count": 53,
   "metadata": {},
   "outputs": [
    {
     "name": "stdout",
     "output_type": "stream",
     "text": [
      "Öğrenci 1 bilgilerini giriniz:\n",
      "Öğrenci 2 bilgilerini giriniz:\n",
      "Öğrenci 3 bilgilerini giriniz:\n",
      "{'221': {'isim': 'samet', 'soyisim': 'karsandi', 'telefon': '123', 'dogum_tarihi': '123'}, '123': {'isim': 'enes', 'soyisim': 'baris', 'telefon': '123', 'dogum_tarihi': '123'}}\n"
     ]
    }
   ],
   "source": [
    "ogrenciler = {}\n",
    "\n",
    "for i in range(3):\n",
    "    print(f\"Öğrenci {i+1} bilgilerini giriniz:\")\n",
    "    numara = input(\"Okul numarası: \")\n",
    "    ad = input(\"İsim: \")\n",
    "    soyad = input(\"Soyisim: \")\n",
    "    telefon = input(\"Telefon numarası: \")\n",
    "    dogum_tarihi = input(\"Doğum tarihi (gg/aa/yyyy): \")\n",
    "    ogrenciler[numara] = {\n",
    "        \"isim\": ad,\n",
    "        \"soyisim\": soyad,\n",
    "        \"telefon\": telefon,\n",
    "        \"dogum_tarihi\": dogum_tarihi\n",
    "    }\n",
    "\n",
    "print(ogrenciler)"
   ]
  },
  {
   "cell_type": "markdown",
   "metadata": {},
   "source": [
    "# Problem 2\n",
    "\n",
    "### a - Biraz ısınarak başlayalım!\n",
    "\n",
    "```\n",
    "numbers = [5,10,10,15,15,15,20,20,20,20]\n",
    "```\n",
    "\n",
    "Yukarıda `numbers` adında 10 elemanlı bir liste verilmiştir. Bu listenin her elemanını kontrol eden ve tekrar eden elemanları bir kez olacak şekilde başka bir listeye kopyalayan bir program yazınız. Son olarak oluşturduğunuz listeyi ekrana bastırınız.\n",
    "\n",
    "\n",
    "\n",
    "\n",
    "```\n",
    ">Output\n",
    "[5, 10, 15, 20]\n",
    "```\n"
   ]
  },
  {
   "cell_type": "code",
   "execution_count": 8,
   "metadata": {},
   "outputs": [
    {
     "name": "stdout",
     "output_type": "stream",
     "text": [
      "[5, 10, 15, 20]\n"
     ]
    }
   ],
   "source": [
    "numbers = [5,10,10,15,15,15,20,20,20,20]\n",
    "listNum =[]\n",
    "for i in numbers:\n",
    "    if i not in listNum:\n",
    "        listNum.append(i)\n",
    "\n",
    "\n",
    "print(listNum)\n",
    "\n"
   ]
  },
  {
   "cell_type": "markdown",
   "metadata": {},
   "source": [
    "### 🌶️ b) Hadi işi biraz daha zorlaştıralım! \n",
    "\n",
    "\n",
    "Şimdiyse senden `numbers` isimli listedeki tekrar eden elemanları `repeatNumbers` adındaki listeye; tekrar etmeyen elemanları `uniqueNumbers`adındaki listeye kopyalayan yazmanı ve listeleri ekrana bastırmanı bekliyoruz\n",
    "\n",
    "```\n",
    ">Output\n",
    "Tekrar Eden Elemanlar: [10, 10, 15, 15, 15, 20, 20, 20, 20]\n",
    "Tekrar Etmeyen Elemanlar: [5]\n",
    "```"
   ]
  },
  {
   "cell_type": "code",
   "execution_count": 1,
   "metadata": {},
   "outputs": [
    {
     "name": "stdout",
     "output_type": "stream",
     "text": [
      "Tekrar eden sayılar:  [10, 10, 15, 15, 15, 20, 20, 20, 20]\n",
      "Tekrar etmeyen sayılar:  [5]\n"
     ]
    }
   ],
   "source": [
    "numbers = [5,10,10,15,15,15,20,20,20,20]\n",
    "\n",
    "repeatNumbers = []\n",
    "uniqueNumbers = []\n",
    "\n",
    "for number in numbers:\n",
    "    if numbers.count(number) > 1 :\n",
    "        repeatNumbers.append(number)\n",
    "    elif numbers.count(number) == 1:\n",
    "        uniqueNumbers.append(number)\n",
    "\n",
    "print(\"Tekrar eden sayılar: \", repeatNumbers)\n",
    "print(\"Tekrar etmeyen sayılar: \",uniqueNumbers)\n",
    "\n",
    "\n"
   ]
  },
  {
   "cell_type": "markdown",
   "metadata": {},
   "source": [
    "# Problem 3\n",
    "sn1 = {1,2,3,4,5}\n",
    "\n",
    "sn2 = {4,5,6,7,8}\n",
    "\n",
    " Verilen 2 adet küme için kesişimlerini, farklarını ve birleşimlerini bulunuz. "
   ]
  },
  {
   "cell_type": "code",
   "execution_count": 23,
   "metadata": {},
   "outputs": [
    {
     "name": "stdout",
     "output_type": "stream",
     "text": [
      "Kesişim:  {4, 5}\n",
      "Fark (sn1 - sn2):  {1, 2, 3}\n",
      "Fark (sn2 - sn1):  {8, 6, 7}\n",
      "Birleşim:  {1, 2, 3, 4, 5, 6, 7, 8}\n"
     ]
    }
   ],
   "source": [
    "sn1 = {1, 2, 3, 4, 5}\n",
    "sn2 = {4, 5, 6, 7, 8}\n",
    "\n",
    "kesisim = sn1.intersection(sn2)\n",
    "fark1 = sn1.difference(sn2)\n",
    "fark2 = sn2.difference(sn1)\n",
    "birlesim = sn1.union(sn2)\n",
    "\n",
    "print(\"Kesişim: \", kesisim)\n",
    "print(\"Fark (sn1 - sn2): \", fark1)\n",
    "print(\"Fark (sn2 - sn1): \", fark2)\n",
    "print(\"Birleşim: \", birlesim)"
   ]
  },
  {
   "cell_type": "code",
   "execution_count": 22,
   "metadata": {},
   "outputs": [
    {
     "name": "stdout",
     "output_type": "stream",
     "text": [
      "[4, 5]\n",
      "[1, 2, 3, 6, 7, 8]\n",
      "[4, 5, 1, 2, 3, 6, 7, 8]\n"
     ]
    }
   ],
   "source": [
    "sn1 = [1,2,3,4,5]\n",
    "sn2 = [4,5,6,7,8]\n",
    "sameNum =[]\n",
    "difference =[]\n",
    "combination =[]\n",
    "\n",
    "for i in sn1:\n",
    "    for j in sn2:\n",
    "        if i==j:\n",
    "            sameNum.append(i)\n",
    "            sayac=0\n",
    "            break\n",
    "        else:\n",
    "            sayac=1\n",
    "\n",
    "    if sayac==1:\n",
    "        difference.append(i)\n",
    "\n",
    "for i in sn2:\n",
    "    for j in sn1:\n",
    "        if i==j:\n",
    "            if i not in sameNum:\n",
    "                sameNum.append(i)\n",
    "            sayac=0\n",
    "            break\n",
    "        else:\n",
    "            sayac=1\n",
    "\n",
    "    if sayac==1:\n",
    "        difference.append(i)\n",
    "            \n",
    "\n",
    "combination = sameNum + difference\n",
    "\n",
    "print(sameNum)\n",
    "print(difference)\n",
    "print(combination)\n"
   ]
  },
  {
   "cell_type": "markdown",
   "metadata": {},
   "source": [
    "# Problem 4\n",
    "\n",
    "Buradaki işlemlerimizin tamamı stringler içindir. Aşağıda verilecek olan metodlar için kendinizin örnek yaratması gerekmektedir. \n",
    "\n",
    "Örneğin `upper` için `string` değişkeni oluştururken` k = \"BAC\"` şeklinde oluşturmayınız. Bunun yerine k değişkenini `k = \"bac`\" şeklinde oluşturmanız `upper` metodundaki değişimi görebilmeniz için daha iyi olacaktır.\n",
    "\n",
    "Bütün metodlardaki değişimin gözle görülür şekilde değişimi beklenmektedir.\n",
    "\n",
    "\n",
    "1- capitalize(), lower(), upper(), swapcase(), title(), replace()\n",
    "\n",
    "2- endswith(), startswith(), find(), index(), count()\n",
    "\n",
    "3- split(), strip(), join(), islower(), isalpha(), isdigit()\n",
    "\n",
    "\n",
    "Yukarıdaki `string` metodlarındaki değişimleri görebildiğimiz bir program yazınız.\n"
   ]
  },
  {
   "cell_type": "code",
   "execution_count": 52,
   "metadata": {},
   "outputs": [
    {
     "name": "stdout",
     "output_type": "stream",
     "text": [
      "Enes\n",
      "enes\n",
      "ENES\n",
      "enEs bArIs\n",
      "Meine Schwestern Ist Studentin\n",
      "li li li li li\n",
      "True\n",
      "False\n",
      "True\n",
      "False\n",
      "17\n",
      "6\n",
      "2\n",
      "['I', 'm', 't', 'r', 'y', 'i', 'n', 'g', 't', 'o', 'd', 'e', 'l', 'e', 't', 'e', 'a', 'l', 'l', 'b', 'l', 'a', 'n', 'k', 's']\n",
      "ENES\n",
      "True\n",
      "False\n",
      "False\n",
      "True\n",
      "True\n",
      "False\n"
     ]
    }
   ],
   "source": [
    "str1= \"eNEs\" \n",
    "\n",
    "str2 = str1.capitalize()\n",
    "print(str2)\n",
    "\n",
    "str3 = \"ENES\"\n",
    "str4=str3.lower()\n",
    "print(str4)\n",
    "\n",
    "str5=\"enes\"\n",
    "str6=str5.upper()\n",
    "print(str6)\n",
    "\n",
    "str7=\"ENeS BaRiS\"\n",
    "str8=str7.swapcase()\n",
    "print(str8)\n",
    "\n",
    "str9=\"Meine schwestern ist Studentin\"\n",
    "str10=str9.title()\n",
    "print(str10)\n",
    "\n",
    "str11=\"la la la la la\"\n",
    "str12=str11.replace(\"la\",\"li\")\n",
    "print(str12)\n",
    "\n",
    "str13 = \"World is peaceful\"\n",
    "print(str13.endswith(\"l\"))\n",
    "print(str13.endswith(\"a\"))\n",
    "\n",
    "str14=\"Ich habe eine Katze\"\n",
    "print(str14.startswith(\"Ich\"))\n",
    "print(str14.startswith(\"i\"))\n",
    "\n",
    "str15=\"Mein Hund ist schwarz\"\n",
    "print(str15.find(\"w\"))\n",
    "\n",
    "str16 = \"There is nothing to see\"\n",
    "print(str16.index(\"is\"))\n",
    "\n",
    "str17 = \"Wohin gehst du?\"\n",
    "print(str17.count(\"h\"))\n",
    "\n",
    "str18=\"I m t r y i n g t o d e l e t e a l l b l a n k s\"\n",
    "str19=str(str18.split())\n",
    "print(str19)\n",
    "\n",
    "str20= \"    ENES    \"\n",
    "print(str20.strip())\n",
    "\n",
    "str21=\"enesbrs\"\n",
    "print(str21.islower())\n",
    "str22=str21.upper()\n",
    "print(str22.islower())\n",
    "\n",
    "str23=\"a1pha 1s n0t h3r3\"\n",
    "print(str23.isalpha())\n",
    "str24=\"sakasaka\"\n",
    "print(str24.isalpha())\n",
    "\n",
    "str25=\"1234\"\n",
    "print(str25.isdigit())\n",
    "str26=\"1ts n0t all d1g1t\"\n",
    "print(str26.isdigit())\n"
   ]
  }
 ],
 "metadata": {
  "kernelspec": {
   "display_name": "Python 3.10.5 64-bit",
   "language": "python",
   "name": "python3"
  },
  "language_info": {
   "codemirror_mode": {
    "name": "ipython",
    "version": 3
   },
   "file_extension": ".py",
   "mimetype": "text/x-python",
   "name": "python",
   "nbconvert_exporter": "python",
   "pygments_lexer": "ipython3",
   "version": "3.11.2"
  },
  "orig_nbformat": 4,
  "vscode": {
   "interpreter": {
    "hash": "5026d2d6e7aaaaba093def813beadff083d8733e4a511af01735cbabd156995d"
   }
  }
 },
 "nbformat": 4,
 "nbformat_minor": 2
}
