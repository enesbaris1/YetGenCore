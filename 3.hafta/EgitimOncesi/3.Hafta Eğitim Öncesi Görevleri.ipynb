{
  "cells": [
    {
      "cell_type": "markdown",
      "metadata": {
        "id": "tsD4YVAe_Te2"
      },
      "source": [
        "# Problem 1\n",
        "Bir sayının 7'ye bölünebilir olup olmadığını kontrol etmek \n",
        "için bir program yazın.\n",
        "\n",
        "İpucu: Mod operatörünü (%) kullanabilirsiniz."
      ]
    },
    {
      "cell_type": "code",
      "execution_count": 2,
      "metadata": {
        "id": "NGjvNwKx_Te7"
      },
      "outputs": [
        {
          "name": "stdout",
          "output_type": "stream",
          "text": [
            "bu sayi yedinin katidir.\n"
          ]
        }
      ],
      "source": [
        "number = int(input(\"bir sayi girisi yapiniz:\"))\n",
        "if number % 7 == 0:\n",
        "    print(\"bu sayi yedinin katidir.\")\n",
        "else:\n",
        "    print(\"bu sayi yedinin kati degildir.\")"
      ]
    },
    {
      "cell_type": "markdown",
      "metadata": {
        "id": "Kg3qiBAI_Te8"
      },
      "source": [
        "# Problem 2\n",
        "Kullanıcıdan vize ve final notu isteyin. Girilen vize notunun %40’ı ve \n",
        "girilen finalnotunun ise %60’ı alınarak yıl sonu not ortalaması hesaplanacaktır. \n",
        "\n",
        "Bu not ortalaması eğer 85 ve üzeri ise AA, \n",
        "\n",
        "75 ve 85 arasında ise BA, \n",
        "\n",
        "70 ve 75 arasında ise BB, \n",
        "\n",
        "65 ve 70 arasında ise CB,\n",
        "\n",
        "60 ve 65 arasında ise CC,\n",
        "\n",
        "55 ve 60 arasında ise DC,\n",
        "\n",
        "50 ve 55 arasında ise DD olarak hesaplanacaktır. \n",
        "\n",
        "Bu öğrencinin yıl sonu toplam notu 50’nin altında ise FF ile dersten kalacaktır. \n",
        "\n",
        "Ayrıca öğrencinin final notu 50’nin altında ise direkt FF ile kalacaktır."
      ]
    },
    {
      "cell_type": "code",
      "execution_count": 6,
      "metadata": {
        "id": "MXTtCxI1_Te8"
      },
      "outputs": [
        {
          "name": "stdout",
          "output_type": "stream",
          "text": [
            "Harf notunuz  BC\n"
          ]
        }
      ],
      "source": [
        "vize = int (input(\"vize notunuzu giriniz :\"))\n",
        "final= int (input(\"final notunuzu giriniz :\"))\n",
        "\n",
        "if (final >= 50):\n",
        "    totalGrade= vize*(40/100) + final*(60/100)\n",
        "\n",
        "    if (totalGrade<=100 and totalGrade>=85):\n",
        "        print(\"harf notunuz AA\")\n",
        "    elif (totalGrade<85 and totalGrade>=75):\n",
        "        print(\"Harf notunuz  BA\")\n",
        "    elif (totalGrade<75 and totalGrade>=70):\n",
        "        print(\"Harf notunuz  BB\")\n",
        "    elif (totalGrade<70  and totalGrade>=65):\n",
        "        print(\"Harf notunuz  BC\")\n",
        "    elif (totalGrade<65 and totalGrade>=60):\n",
        "        print(\"Harf notunuz  CC\")\n",
        "    elif (totalGrade<60 and totalGrade>=55):\n",
        "        print(\"Harf notunuz DC\")\n",
        "    elif (totalGrade<55 and totalGrade>=50):\n",
        "        print(\"Harf notunuz DD\")\n",
        "    elif (totalGrade<50):\n",
        "        print(\"Harf notunuz FF ve kaldiniz.\")\n",
        "    else:\n",
        "        print(\"Gecerli notlar girmediniz.\")\n",
        "else:\n",
        "    print(\"Final notunuz 50 nin altinda FF ile direkt kaldiniz.\")\n",
        "    "
      ]
    },
    {
      "cell_type": "markdown",
      "metadata": {
        "id": "tAoRYCTC_Te8"
      },
      "source": [
        "# Problem 3\n",
        "İki YetGenli Zirve'de karşılaşıyorlar. Birbirlerini tanımak için sorular soruyorlar. Birbirlerine yaşlarını soruyorlar. Akıllarına bir Python programı yazıp, yaşlarını ve isimlerini giriyorlar. Büyük olanın yaşını ekrana yazdıran programı yazıyorlar. Sende bu iki YetGenli'ye destek olmak ister misin?\n",
        "\n",
        "```\n",
        "Birinci YetGenlinin ismi: Ahmet\n",
        "Birinci YetGenlinin yaşı : 20\n",
        "İkinci YetGenlinin ismi: Mehmet\n",
        "İkinci YetGenlinin yaşı : 25\n",
        "Mehmet'in yaşı daha büyük ve yaşı 25'tir.\n",
        "```"
      ]
    },
    {
      "cell_type": "code",
      "execution_count": 9,
      "metadata": {
        "id": "bPjE8W0i_Te8"
      },
      "outputs": [
        {
          "name": "stdout",
          "output_type": "stream",
          "text": [
            "enes 'in yasi daha buyuktur ve 67 yasindadir.\n"
          ]
        }
      ],
      "source": [
        "\n",
        "Yet1 = input(\"birinci yetgenlinin ismi:\")\n",
        "Yet1yas = int(input(\"birinci yetgenlinin yasi:\"))\n",
        "Yet2 = input(\"ikinci yetgenlinin ismi:\")\n",
        "Yet2yas = int(input(\"ikinci yetgenlinin yasi:\"))\n",
        "\n",
        "if (Yet1yas>Yet2yas):\n",
        "    print(Yet1,\"'in yasi daha buyuktur ve\",Yet1yas,\"yasindadir.\")\n",
        "elif (Yet1yas<Yet2yas):\n",
        "    print(Yet2,\"'in yasi daha buyuktur ve\",Yet2yas,\"yasindadir.\")   \n",
        "else:\n",
        "    print(Yet1,\"ve\",Yet2,\"nin yaslari esittir.\")\n"
      ]
    },
    {
      "cell_type": "markdown",
      "metadata": {
        "id": "zBVv8Tyg_Te9"
      },
      "source": [
        "# Problem 4\n",
        "Pandemi döneminde AVM'lerde ateş ölçümü yapılıyor. AVM'ye giren kişinin ateş ölçümü 37.5 derecenin altında ise girişe izin veriliyor. 37.5 derecenin üstünde ise girişe izin verilmiyor. AVM'ye girişe izin verilip verilmediğini ekrana yazdıran bir program yazın.\n",
        "\n",
        "Program sonunda şöyle bir çıktı elde etmelisiniz:\n",
        "\n",
        "```\n",
        "Ateşiniz 37.5 derece. AVM'ye girebilirsin! Maske takmayı unutma!\n",
        "Ateşiniz 37.6 derece. AVM'ye giremezsin! Hemen evine dön!\n",
        "```"
      ]
    },
    {
      "cell_type": "code",
      "execution_count": 10,
      "metadata": {
        "id": "TSAXs8et_Te9"
      },
      "outputs": [
        {
          "name": "stdout",
          "output_type": "stream",
          "text": [
            "Atesiniz 37.8 derece. AVM'ye giremezsin! Hemen evine dön!\n"
          ]
        }
      ],
      "source": [
        "fieber = float(input(\"Ates degerini giriniz:\"))\n",
        "if(fieber>37.5):\n",
        "    print(\"Atesiniz\",fieber,\"derece. AVM'ye giremezsin! Hemen evine dön!\")\n",
        "else:\n",
        "    print(\"Atesiniz\",fieber,\"derece.AVM'ye girebilirsin! Maske takmayı unutma! \")"
      ]
    },
    {
      "cell_type": "markdown",
      "metadata": {
        "id": "6AEkZrDt_Te9"
      },
      "source": [
        "# Problem 5\n",
        "YetGen bir spor kulübüyle sponsorluk anlaşması yapıyor. Kulüp, sponsorluk anlaşmasına göre her YetGen liderinin beden kitle indeksini hesaplamak istiyor. Spor kulübü, beden kitle indeksini hesaplamak için YetGen Jump Python liderlerinden Berkcan ve Ahmet'i arıyor. Berkcan ve Ahmet, kulübe yardımcı olmak için bir Python programı yazıyorlar. Sende bu iki YetGen liderine destek olmak ister misin?\n",
        "\n",
        "Kullanıcıdan alınan boy ve kilo değerlerine göre beden kitle indeksini hesaplayın ve şu kurallara göre ekrana şu yazıları yazdırın.\n",
        "\n",
        "\n",
        "Beden Kitle İndeksi, kişinin ağırlığının (kg olarak) boyunun karesine (m olarak) bölünmesiyle hesaplanır.\n",
        "\n",
        "\n",
        "```\n",
        " BKİ 18.5'un altındaysa -------> Zayıf\n",
        "\n",
        " BKİ 18.5 ile 25 arasındaysa ------> Normal\n",
        "\n",
        " BKİ 25 ile 30 arasındaysa --------> Fazla Kilolu\n",
        "\n",
        " BKİ 30'un üstündeyse -------------> Obez\n",
        "```\n",
        "\n"
      ]
    },
    {
      "cell_type": "code",
      "execution_count": 11,
      "metadata": {
        "id": "t-XPI_u0_Te-"
      },
      "outputs": [
        {
          "name": "stdout",
          "output_type": "stream",
          "text": [
            "Normal kilodasiniz.\n"
          ]
        }
      ],
      "source": [
        "kilo = float(input(\"Kac kilosunuz:\"))\n",
        "boy = float(input(\"boyunuz kac metre:\"))\n",
        "\n",
        "bki = kilo/(boy**2)\n",
        "\n",
        "if (bki<18.5):\n",
        "    print(\"zayifsiniz.\")\n",
        "elif (bki>=18.5 and bki<25):\n",
        "    print(\"Normal kilodasiniz.\")\n",
        "elif (bki>=25 and bki<30):\n",
        "    print(\"Fazla Kilolusunuz.\")\n",
        "elif (bki>=30):\n",
        "    print(\"Obezsiniz.\")\n",
        "else:\n",
        "    print(\"Boy kitle endeksiniz gecerli aralikta degil.\")\n",
        "\n"
      ]
    },
    {
      "cell_type": "markdown",
      "metadata": {
        "id": "oFsvQyaO_Te-"
      },
      "source": [
        "# Problem 6\n",
        "Kullanıcıdan isim, yaş ve eğitim bilgilerini isteyip ehliyet alabilme  durumunu kontrol ediniz. \n",
        "\n",
        "Ehliyet alma koşulu en az 18 yaşında ve eğitim durumu lise ya da üniversite olmalıdır. "
      ]
    },
    {
      "cell_type": "code",
      "execution_count": 14,
      "metadata": {
        "id": "Tu2mcgco_Te-"
      },
      "outputs": [
        {
          "name": "stdout",
          "output_type": "stream",
          "text": [
            "ehliyet alabilirsiniz.\n"
          ]
        }
      ],
      "source": [
        "isim = input(\"isminiz nedir:\")\n",
        "yas = int(input(\"kac yasindasiniz:\"))\n",
        "egitim = input(\"egitim durumunuzu tek kelime ile yaziniz(lise,üniversite...)\")\n",
        "\n",
        "if (yas>=18 and (egitim =='lise' or egitim == 'üniversite')):\n",
        "    print(\"ehliyet alabilirsiniz.\")\n",
        "else:\n",
        "    print(\"ehliyet alamazsiniz.\")"
      ]
    },
    {
      "cell_type": "markdown",
      "metadata": {
        "id": "eUkxVSAE_Te_"
      },
      "source": [
        "# Problem 7\n",
        "Bir yılın artık yıl olup olmadığını kontrol etmek için bir program yazın. \n",
        "Artık yıl kuralı:\n",
        "\n",
        "a) Eğer yılın son iki basamağı (00) ile bitmiyor ve yalnızca 4'e tam bölünüyorsa artık yıldır. Ya da, \n",
        "\n",
        "b) Eğer yıl 400'e tam bölünüyorsa artık yıldır.\n",
        "\n",
        "**Örneğin**\n",
        "```\n",
        "2017 artık yıl değildir.\n",
        "1900 artık yıl değildir\n",
        "2012 artık yıldır.\n",
        "2000 artık yıldır.\n",
        "```"
      ]
    },
    {
      "cell_type": "code",
      "execution_count": 16,
      "metadata": {
        "id": "4uWh8qUL_Te_"
      },
      "outputs": [
        {
          "name": "stdout",
          "output_type": "stream",
          "text": [
            "2000 artik yildir.\n"
          ]
        }
      ],
      "source": [
        "yil = int(input(\"kontrol etmek istediginiz yili giriniz:\"))\n",
        "\n",
        "if (yil % 400 == 0 or ((yil % 100 != 0) and (yil % 4 == 0))):\n",
        "    print(yil,\"artik yildir.\")\n",
        "else:\n",
        "    print(yil,\"artik yil degildir.\")"
      ]
    }
  ],
  "metadata": {
    "colab": {
      "provenance": []
    },
    "kernelspec": {
      "display_name": "Python 3.10.5 64-bit",
      "language": "python",
      "name": "python3"
    },
    "language_info": {
      "codemirror_mode": {
        "name": "ipython",
        "version": 3
      },
      "file_extension": ".py",
      "mimetype": "text/x-python",
      "name": "python",
      "nbconvert_exporter": "python",
      "pygments_lexer": "ipython3",
      "version": "3.11.2"
    },
    "orig_nbformat": 4,
    "vscode": {
      "interpreter": {
        "hash": "5026d2d6e7aaaaba093def813beadff083d8733e4a511af01735cbabd156995d"
      }
    }
  },
  "nbformat": 4,
  "nbformat_minor": 0
}
