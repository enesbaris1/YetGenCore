{
 "cells": [
  {
   "attachments": {},
   "cell_type": "markdown",
   "metadata": {},
   "source": [
    "VARIABLES/DEĞİŞKENLER \n",
    "\n",
    "Değişkenler değişkendir işte ya\n",
    "    KURALLAR;\n",
    "    *değişken isimlendirmeleri sayıyla başlayamaz alt çizgi ya da harfle başlar\n",
    "    *değişken adlandırırken türkçe karakter kullanılmamalı\n",
    "    *değişken isimlendirirken boşluk kullanılmaz\n",
    "    *büyük küçük harf duyarlıdır\n",
    "\n",
    "TYPE() KOMUTU\n",
    "Bir değişkenin veri tipini verir"
   ]
  },
  {
   "cell_type": "code",
   "execution_count": 2,
   "metadata": {},
   "outputs": [
    {
     "name": "stdout",
     "output_type": "stream",
     "text": [
      "YetGen bitmez\n"
     ]
    }
   ],
   "source": [
    "yetgen=\"YetGen bitmez\" # değişken kullanımı bu şekildedir\n",
    "print(yetgen)"
   ]
  },
  {
   "cell_type": "code",
   "execution_count": 6,
   "metadata": {},
   "outputs": [
    {
     "name": "stdout",
     "output_type": "stream",
     "text": [
      "<class 'int'>\n",
      "<class 'str'>\n"
     ]
    }
   ],
   "source": [
    "variable=12 #type komutu bu şekilde kullanılır\n",
    "print(type(variable))\n",
    "print(type(\"enes\"))"
   ]
  }
 ],
 "metadata": {
  "kernelspec": {
   "display_name": "Python 3",
   "language": "python",
   "name": "python3"
  },
  "language_info": {
   "codemirror_mode": {
    "name": "ipython",
    "version": 3
   },
   "file_extension": ".py",
   "mimetype": "text/x-python",
   "name": "python",
   "nbconvert_exporter": "python",
   "pygments_lexer": "ipython3",
   "version": "3.11.1"
  },
  "orig_nbformat": 4,
  "vscode": {
   "interpreter": {
    "hash": "4e98b47fa4b84e56ac24da5b2456ce5e844bb2dcb0da610c5f8d7901f7aa0db6"
   }
  }
 },
 "nbformat": 4,
 "nbformat_minor": 2
}
