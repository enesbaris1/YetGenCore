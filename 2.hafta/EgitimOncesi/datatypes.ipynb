{
 "cells": [
  {
   "attachments": {},
   "cell_type": "markdown",
   "metadata": {},
   "source": [
    "SAYI VERİ TÜRLERİ\n",
    "\n",
    "İkiye ayrılır\n",
    "\n",
    "*int\n",
    "*float\n",
    "\n",
    "int=tam sayıları ifade etmek için kullanılır ve hafızada 4 bytelık yer kaplar \n",
    "\n",
    "float=ondalıklı sayıları ifade etmek için kullanılır ve 4 bytelık yer kaplar \n",
    "\n",
    "MATEMATİKSEL İŞLEMLER\n",
    "\n",
    "toplama +\n",
    "çıkarma -\n",
    "çarpma *\n",
    "bölme /\n",
    "üs alma **\n",
    "mod alma %\n",
    "tam bölüm sayısını verir //\n"
   ]
  },
  {
   "cell_type": "code",
   "execution_count": null,
   "metadata": {},
   "outputs": [],
   "source": [
    "\n",
    "a=10\n",
    "b=6\n",
    "print(a+b)\n",
    "print(a-b)\n",
    "print(a*b)\n",
    "print(a/b)\n",
    "print(a%b)\n",
    "print(a//b)"
   ]
  },
  {
   "attachments": {},
   "cell_type": "markdown",
   "metadata": {},
   "source": [
    "STRING\n",
    "\n",
    "metinsel ifadelerdir\n",
    "karkater dizileridir\n",
    "indexlemeye 0 dan başlar \n",
    "\n",
    "Örneğin;"
   ]
  },
  {
   "cell_type": "code",
   "execution_count": null,
   "metadata": {},
   "outputs": [
    {
     "name": "stdout",
     "output_type": "stream",
     "text": [
      "enes\n",
      "e\n",
      "s\n"
     ]
    }
   ],
   "source": [
    "strinng=\"enes\"  #burada 0. index e 1.n 2.e 3.s dir\n",
    "print(strinng)\n",
    "print(strinng[0])\n",
    "print(strinng[-1]) #bu şekilde sondan birinci elemanı verir"
   ]
  },
  {
   "cell_type": "code",
   "execution_count": null,
   "metadata": {},
   "outputs": [
    {
     "name": "stdout",
     "output_type": "stream",
     "text": [
      "enes baris\n",
      "enes   baris   19\n",
      "enes baris 19\n"
     ]
    }
   ],
   "source": [
    "isim=\"enes\"\n",
    "soyad=\"baris\"\n",
    "yas=19\n",
    "print(isim + \" \" + soyad ) #bu şekilde + lı kullnaımda farklı veri tiplerini \n",
    "#print içine yazıp birleiştirerek yazdıramayız onun yerine kullanılabilecekler;\n",
    "print(isim,\" \",soyad,\" \",yas)\n",
    "# ya da\n",
    "print(f\"{isim} {soyad} {yas}\" )\n"
   ]
  },
  {
   "attachments": {},
   "cell_type": "markdown",
   "metadata": {},
   "source": [
    "BOOLEAN\n",
    "Sadece true veya false değerini döndürür\n",
    "\n",
    "INPUT()\n",
    "\n",
    "Kullanıcıdan veri girişi almamızı sağlar\n",
    "input ile veri alırken string igib davranır bu yüzden input alırken sayı alacaksak int ya da float kullanılması gerek"
   ]
  },
  {
   "cell_type": "code",
   "execution_count": 2,
   "metadata": {},
   "outputs": [
    {
     "name": "stdout",
     "output_type": "stream",
     "text": [
      "True\n",
      "<class 'bool'>\n",
      "enes\n"
     ]
    }
   ],
   "source": [
    "dogruluk = True\n",
    "print(dogruluk)\n",
    "print(type(dogruluk))\n",
    "\n",
    "adin = input(\"bir isi giriniz:\")\n",
    "print(adin)\n"
   ]
  },
  {
   "cell_type": "code",
   "execution_count": 3,
   "metadata": {},
   "outputs": [
    {
     "name": "stdout",
     "output_type": "stream",
     "text": [
      "3 3\n"
     ]
    }
   ],
   "source": [
    "sayi1 = int(input(\"birinci sayi:\"))\n",
    "sayi2 = int(input(\"ikinci sayi: \"))\n",
    "\n",
    "print(f\"{sayi1} {sayi2}\")"
   ]
  }
 ],
 "metadata": {
  "kernelspec": {
   "display_name": "Python 3",
   "language": "python",
   "name": "python3"
  },
  "language_info": {
   "codemirror_mode": {
    "name": "ipython",
    "version": 3
   },
   "file_extension": ".py",
   "mimetype": "text/x-python",
   "name": "python",
   "nbconvert_exporter": "python",
   "pygments_lexer": "ipython3",
   "version": "3.11.1"
  },
  "orig_nbformat": 4,
  "vscode": {
   "interpreter": {
    "hash": "4e98b47fa4b84e56ac24da5b2456ce5e844bb2dcb0da610c5f8d7901f7aa0db6"
   }
  }
 },
 "nbformat": 4,
 "nbformat_minor": 2
}
