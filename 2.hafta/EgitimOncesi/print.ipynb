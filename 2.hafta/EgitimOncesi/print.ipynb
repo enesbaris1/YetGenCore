{
 "cells": [
  {
   "cell_type": "code",
   "execution_count": 1,
   "metadata": {},
   "outputs": [
    {
     "name": "stdout",
     "output_type": "stream",
     "text": [
      "Selam Ben Enes!\n",
      "Bu benim\n",
      "İlk kodum\n"
     ]
    }
   ],
   "source": [
    "print(\"Selam Ben Enes!\")\n",
    "print('Bu benim')\n",
    "print(\"\"\"İlk kodum\"\"\")"
   ]
  },
  {
   "cell_type": "code",
   "execution_count": 2,
   "metadata": {},
   "outputs": [
    {
     "data": {
      "text/plain": [
       "'Yetgen ile python'"
      ]
     },
     "execution_count": 2,
     "metadata": {},
     "output_type": "execute_result"
    }
   ],
   "source": [
    "\"Yetgen ile python\""
   ]
  },
  {
   "attachments": {},
   "cell_type": "markdown",
   "metadata": {},
   "source": [
    "print dışında dışında yularıdaki gibi bir kullanım da mümkün fakat \n",
    "print fonksiyonu ile içine yazdığım tüm ifadelerin çıktısını alabilirken \n",
    "normal çift tırnak ile sadece son olarak ne yazdıysam onun çıktısını alırım\n",
    "\n",
    "\n",
    "SEP\n",
    "sep parametresi print içinde yazdırılacak elemanların arasına herhangi bir işaret konulmasını sağlar örnek olarak;"
   ]
  },
  {
   "cell_type": "code",
   "execution_count": 3,
   "metadata": {},
   "outputs": [
    {
     "name": "stdout",
     "output_type": "stream",
     "text": [
      "Selam/Ben/Enes\n"
     ]
    }
   ],
   "source": [
    "print(\"Selam\",\"Ben\",\"Enes\", sep=\"/\")"
   ]
  },
  {
   "attachments": {},
   "cell_type": "markdown",
   "metadata": {},
   "source": [
    "END\n",
    "end parametresi yazdıracağımız ifadenin sonuna bir şeyler koymamızı sağlar\n",
    "Örenğin;"
   ]
  },
  {
   "cell_type": "code",
   "execution_count": 4,
   "metadata": {},
   "outputs": [
    {
     "name": "stdout",
     "output_type": "stream",
     "text": [
      "pythona hoş geldin."
     ]
    }
   ],
   "source": [
    "print(\"pythona hoş geldin\",end=\".\")\n"
   ]
  },
  {
   "attachments": {},
   "cell_type": "markdown",
   "metadata": {},
   "source": [
    "YORUM SATIRLARI\n",
    "\n",
    "    tek bir satıra yorum satırı eklemek için # işareti kullanılır\n",
    "    çoklu satırları yorum satırı olarak kullanmak için üç tane tırnak işaretini yorumun başına ve sonuna koymamız yeterlidir."
   ]
  },
  {
   "cell_type": "code",
   "execution_count": 5,
   "metadata": {},
   "outputs": [
    {
     "name": "stdout",
     "output_type": "stream",
     "text": [
      "yorum satırnı gördünüz\n"
     ]
    }
   ],
   "source": [
    "#bu bir yorum satırı\n",
    "print(\"yorum satırnı gördünüz\")"
   ]
  },
  {
   "cell_type": "code",
   "execution_count": 7,
   "metadata": {},
   "outputs": [
    {
     "name": "stdout",
     "output_type": "stream",
     "text": [
      "çoklu yorum satırlarını gördünüz\n"
     ]
    }
   ],
   "source": [
    "'''\n",
    "yorum\n",
    " satırlarını \n",
    " yedim\n",
    "'''\n",
    "print(\"çoklu yorum satırlarını gördünüz\")"
   ]
  }
 ],
 "metadata": {
  "kernelspec": {
   "display_name": "Python 3",
   "language": "python",
   "name": "python3"
  },
  "language_info": {
   "codemirror_mode": {
    "name": "ipython",
    "version": 3
   },
   "file_extension": ".py",
   "mimetype": "text/x-python",
   "name": "python",
   "nbconvert_exporter": "python",
   "pygments_lexer": "ipython3",
   "version": "3.11.1 (tags/v3.11.1:a7a450f, Dec  6 2022, 19:58:39) [MSC v.1934 64 bit (AMD64)]"
  },
  "orig_nbformat": 4,
  "vscode": {
   "interpreter": {
    "hash": "4e98b47fa4b84e56ac24da5b2456ce5e844bb2dcb0da610c5f8d7901f7aa0db6"
   }
  }
 },
 "nbformat": 4,
 "nbformat_minor": 2
}
